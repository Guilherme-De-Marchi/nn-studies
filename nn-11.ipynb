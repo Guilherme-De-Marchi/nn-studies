{
 "cells": [
  {
   "cell_type": "code",
   "execution_count": 1,
   "id": "8aa16072",
   "metadata": {},
   "outputs": [],
   "source": [
    "import tensorflow as tf\n",
    "from tensorflow import keras\n",
    "import matplotlib.pyplot as plt\n",
    "import numpy as np"
   ]
  },
  {
   "cell_type": "code",
   "execution_count": 3,
   "id": "b74b858c",
   "metadata": {},
   "outputs": [
    {
     "data": {
      "text/plain": [
       "((50000, 32, 32, 3), (10000, 32, 32, 3))"
      ]
     },
     "execution_count": 3,
     "metadata": {},
     "output_type": "execute_result"
    }
   ],
   "source": [
    "(X_train, y_train), (X_test, y_test) = keras.datasets.cifar10.load_data()\n",
    "X_train.shape, X_test.shape"
   ]
  },
  {
   "cell_type": "code",
   "execution_count": 9,
   "id": "fa4604ea",
   "metadata": {},
   "outputs": [],
   "source": [
    "y_train = y_train.reshape(-1,)\n",
    "y_test = y_test.reshape(-1,)"
   ]
  },
  {
   "cell_type": "code",
   "execution_count": 12,
   "id": "809aa322",
   "metadata": {},
   "outputs": [],
   "source": [
    "classes = [\n",
    "    'airplane',\n",
    "    'automobile',\n",
    "    'bird',\n",
    "    'cat',\n",
    "    'dear',\n",
    "    'dog',\n",
    "    'frog',\n",
    "    'horse',\n",
    "    'ship',\n",
    "    'truck'\n",
    "]\n",
    "\n",
    "def plot_sample(X, y, index):\n",
    "    plt.imshow(X[index])\n",
    "    plt.xlabel(classes[y[index]])"
   ]
  },
  {
   "cell_type": "code",
   "execution_count": 13,
   "id": "0169fbc8",
   "metadata": {},
   "outputs": [
    {
     "data": {
      "image/png": "[encoded data removed]",
      "text/plain": [
       "<Figure size 432x288 with 1 Axes>"
      ]
     },
     "metadata": {
      "needs_background": "light"
     },
     "output_type": "display_data"
    }
   ],
   "source": [
    "plot_sample(X_train, y_train, 0)"
   ]
  },
  {
   "cell_type": "code",
   "execution_count": 14,
   "id": "af14f5d2",
   "metadata": {},
   "outputs": [],
   "source": [
    "X_train_norm = X_train / 255\n",
    "X_test_norm = X_test / 255"
   ]
  },
  {
   "cell_type": "code",
   "execution_count": 20,
   "id": "d7bf314a",
   "metadata": {},
   "outputs": [
    {
     "name": "stdout",
     "output_type": "stream",
     "text": [
      "Epoch 1/5\n",
      "1563/1563 [==============================] - 40s 25ms/step - loss: 2.1174 - accuracy: 0.2447\n",
      "Epoch 2/5\n",
      "1563/1563 [==============================] - 40s 26ms/step - loss: 1.7393 - accuracy: 0.3742\n",
      "Epoch 3/5\n",
      "1563/1563 [==============================] - 38s 24ms/step - loss: 1.6528 - accuracy: 0.4041\n",
      "Epoch 4/5\n",
      "1563/1563 [==============================] - 45s 29ms/step - loss: 1.5881 - accuracy: 0.4328\n",
      "Epoch 5/5\n",
      "1563/1563 [==============================] - 42s 27ms/step - loss: 1.5367 - accuracy: 0.4527\n"
     ]
    },
    {
     "data": {
      "text/plain": [
       "<tensorflow.python.keras.callbacks.History at 0x7fbbe37362b0>"
      ]
     },
     "execution_count": 20,
     "metadata": {},
     "output_type": "execute_result"
    }
   ],
   "source": [
    "ann = keras.models.Sequential([\n",
    "    keras.layers.Flatten(input_shape=(32,32,3)),\n",
    "    keras.layers.Dense(1000, activation='relu'),\n",
    "    keras.layers.Dense(100, activation='relu'),\n",
    "    keras.layers.Dense(10, activation='sigmoid')\n",
    "])\n",
    "\n",
    "ann.compile(\n",
    "    optimizer='adam',\n",
    "    loss='sparse_categorical_crossentropy',\n",
    "    metrics=['accuracy']\n",
    ")\n",
    "\n",
    "ann.fit(X_train_norm, y_train, epochs=5)"
   ]
  },
  {
   "cell_type": "code",
   "execution_count": 21,
   "id": "9c970f63",
   "metadata": {},
   "outputs": [
    {
     "name": "stdout",
     "output_type": "stream",
     "text": [
      "313/313 [==============================] - 2s 6ms/step - loss: 1.5380 - accuracy: 0.4489\n"
     ]
    },
    {
     "data": {
      "text/plain": [
       "[1.5380312204360962, 0.4489000141620636]"
      ]
     },
     "execution_count": 21,
     "metadata": {},
     "output_type": "execute_result"
    }
   ],
   "source": [
    "ann.evaluate(X_test_norm, y_test)"
   ]
  },
  {
   "cell_type": "code",
   "execution_count": 27,
   "id": "29073f8a",
   "metadata": {},
   "outputs": [
    {
     "name": "stdout",
     "output_type": "stream",
     "text": [
      "              precision    recall  f1-score   support\n",
      "\n",
      "           0       0.52      0.49      0.50      1000\n",
      "           1       0.61      0.52      0.56      1000\n",
      "           2       0.31      0.22      0.26      1000\n",
      "           3       0.38      0.13      0.20      1000\n",
      "           4       0.34      0.48      0.40      1000\n",
      "           5       0.35      0.40      0.38      1000\n",
      "           6       0.43      0.59      0.50      1000\n",
      "           7       0.53      0.52      0.53      1000\n",
      "           8       0.45      0.74      0.56      1000\n",
      "           9       0.62      0.40      0.49      1000\n",
      "\n",
      "    accuracy                           0.45     10000\n",
      "   macro avg       0.46      0.45      0.44     10000\n",
      "weighted avg       0.46      0.45      0.44     10000\n",
      "\n"
     ]
    }
   ],
   "source": [
    "from sklearn.metrics import confusion_matrix, classification_report\n",
    "\n",
    "y_pred = ann.predict(X_test_norm)\n",
    "y_pred_classes = [np.argmax(v) for v in y_pred]\n",
    "\n",
    "print(classification_report(y_test, y_pred_classes))"
   ]
  },
  {
   "cell_type": "code",
   "execution_count": 30,
   "id": "cb933c71",
   "metadata": {},
   "outputs": [
    {
     "name": "stdout",
     "output_type": "stream",
     "text": [
      "Epoch 1/5\n",
      "1563/1563 [==============================] - 57s 36ms/step - loss: 1.7379 - accuracy: 0.3680\n",
      "Epoch 2/5\n",
      "1563/1563 [==============================] - 59s 38ms/step - loss: 1.3200 - accuracy: 0.5308\n",
      "Epoch 3/5\n",
      "1563/1563 [==============================] - 54s 35ms/step - loss: 1.2183 - accuracy: 0.5652\n",
      "Epoch 4/5\n",
      "1563/1563 [==============================] - 64s 41ms/step - loss: 1.1276 - accuracy: 0.6019\n",
      "Epoch 5/5\n",
      "1563/1563 [==============================] - 61s 39ms/step - loss: 1.0473 - accuracy: 0.6305\n"
     ]
    },
    {
     "data": {
      "text/plain": [
       "<tensorflow.python.keras.callbacks.History at 0x7fbb7a3ea7c0>"
      ]
     },
     "execution_count": 30,
     "metadata": {},
     "output_type": "execute_result"
    }
   ],
   "source": [
    "cnn = keras.models.Sequential([\n",
    "    keras.layers.Conv2D(input_shape=(32,32,3), filters=32, kernel_size=(3,3), activation='relu'),\n",
    "    keras.layers.MaxPooling2D((2,2)),\n",
    "    \n",
    "    keras.layers.Conv2D(filters=6, kernel_size=(3,3), activation='relu'),\n",
    "    keras.layers.MaxPooling2D((2,2)),\n",
    "    \n",
    "    keras.layers.Flatten(),\n",
    "    keras.layers.Dense(1000, activation='relu'),\n",
    "    keras.layers.Dense(10, activation='softmax')\n",
    "])\n",
    "\n",
    "cnn.compile(\n",
    "    optimizer='adam',\n",
    "    loss='sparse_categorical_crossentropy',\n",
    "    metrics=['accuracy']\n",
    ")\n",
    "\n",
    "cnn.fit(X_train_norm, y_train, epochs=5)"
   ]
  },
  {
   "cell_type": "code",
   "execution_count": 31,
   "id": "cb405bfc",
   "metadata": {},
   "outputs": [
    {
     "name": "stdout",
     "output_type": "stream",
     "text": [
      "313/313 [==============================] - 3s 9ms/step - loss: 1.1238 - accuracy: 0.6131\n"
     ]
    },
    {
     "data": {
      "text/plain": [
       "[1.1238125562667847, 0.613099992275238]"
      ]
     },
     "execution_count": 31,
     "metadata": {},
     "output_type": "execute_result"
    }
   ],
   "source": [
    "cnn.evaluate(X_test_norm, y_test)"
   ]
  },
  {
   "cell_type": "code",
   "execution_count": 50,
   "id": "c4083d3d",
   "metadata": {},
   "outputs": [
    {
     "data": {
      "text/plain": [
       "'bird'"
      ]
     },
     "execution_count": 50,
     "metadata": {},
     "output_type": "execute_result"
    }
   ],
   "source": [
    "classes[np.argmax(cnn.predict(X_test_norm)[765])]"
   ]
  },
  {
   "cell_type": "code",
   "execution_count": 51,
   "id": "89a6cae2",
   "metadata": {},
   "outputs": [
    {
     "data": {
      "image/png": "[encoded data removed]",
      "text/plain": [
       "<Figure size 432x288 with 1 Axes>"
      ]
     },
     "metadata": {
      "needs_background": "light"
     },
     "output_type": "display_data"
    }
   ],
   "source": [
    "plot_sample(X_test, y_test, 765)"
   ]
  },
  {
   "cell_type": "code",
   "execution_count": 47,
   "id": "89ba8953",
   "metadata": {},
   "outputs": [
    {
     "name": "stdout",
     "output_type": "stream",
     "text": [
      "              precision    recall  f1-score   support\n",
      "\n",
      "           0       0.67      0.65      0.66      1000\n",
      "           1       0.71      0.81      0.75      1000\n",
      "           2       0.54      0.44      0.48      1000\n",
      "           3       0.47      0.33      0.39      1000\n",
      "           4       0.50      0.58      0.54      1000\n",
      "           5       0.50      0.54      0.52      1000\n",
      "           6       0.74      0.64      0.69      1000\n",
      "           7       0.60      0.75      0.67      1000\n",
      "           8       0.73      0.67      0.70      1000\n",
      "           9       0.66      0.72      0.69      1000\n",
      "\n",
      "    accuracy                           0.61     10000\n",
      "   macro avg       0.61      0.61      0.61     10000\n",
      "weighted avg       0.61      0.61      0.61     10000\n",
      "\n"
     ]
    }
   ],
   "source": [
    "y_pred = cnn.predict(X_test_norm)\n",
    "y_pred_classes = [np.argmax(v) for v in y_pred]\n",
    "\n",
    "print(classification_report(y_test, y_pred_classes))"
   ]
  }
 ],
 "metadata": {
  "kernelspec": {
   "display_name": "Python 3 (ipykernel)",
   "language": "python",
   "name": "python3"
  },
  "language_info": {
   "codemirror_mode": {
    "name": "ipython",
    "version": 3
   },
   "file_extension": ".py",
   "mimetype": "text/x-python",
   "name": "python",
   "nbconvert_exporter": "python",
   "pygments_lexer": "ipython3",
   "version": "3.9.12"
  }
 },
 "nbformat": 4,
 "nbformat_minor": 5
}
