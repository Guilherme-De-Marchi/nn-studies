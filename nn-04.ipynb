{
 "cells": [
  {
   "cell_type": "code",
   "execution_count": 8,
   "id": "0dd468af",
   "metadata": {},
   "outputs": [],
   "source": [
    "import numpy as np"
   ]
  },
  {
   "cell_type": "code",
   "execution_count": 9,
   "id": "dc4c5a16",
   "metadata": {},
   "outputs": [],
   "source": [
    "y_predicted = np.array([1, 1, 0, 0, 1])\n",
    "y_true = np.array([.3, .7, 1, 0, .5])"
   ]
  },
  {
   "cell_type": "code",
   "execution_count": 8,
   "id": "136e1dc5",
   "metadata": {},
   "outputs": [],
   "source": [
    "def mean_absolute_error(y_true, y_predicted):\n",
    "    total_error = 0\n",
    "    for yt, yp in zip(y_true, y_predicted):\n",
    "        total_error += abs(yt - yp)\n",
    "    return total_error / len(y_true)"
   ]
  },
  {
   "cell_type": "code",
   "execution_count": 9,
   "id": "f5700951",
   "metadata": {},
   "outputs": [
    {
     "data": {
      "text/plain": [
       "0.5"
      ]
     },
     "execution_count": 9,
     "metadata": {},
     "output_type": "execute_result"
    }
   ],
   "source": [
    "mean_absolute_error(y_true, y_predicted)"
   ]
  },
  {
   "cell_type": "code",
   "execution_count": 10,
   "id": "6082eb1c",
   "metadata": {},
   "outputs": [
    {
     "data": {
      "text/plain": [
       "0.5"
      ]
     },
     "execution_count": 10,
     "metadata": {},
     "output_type": "execute_result"
    }
   ],
   "source": [
    "np.mean(np.abs(y_true - y_predicted))"
   ]
  },
  {
   "cell_type": "code",
   "execution_count": 11,
   "id": "6af48f77",
   "metadata": {},
   "outputs": [],
   "source": [
    "def mean_squared_error(y_true, y_predicted):\n",
    "    total_error = 0\n",
    "    for yt, yp in zip(y_true, y_predicted):\n",
    "        total_error += (yt - yp) ** 2\n",
    "    return total_error / len(y_true)"
   ]
  },
  {
   "cell_type": "code",
   "execution_count": 12,
   "id": "8a9fffbb",
   "metadata": {},
   "outputs": [
    {
     "data": {
      "text/plain": [
       "0.366"
      ]
     },
     "execution_count": 12,
     "metadata": {},
     "output_type": "execute_result"
    }
   ],
   "source": [
    "mean_squared_error(y_true, y_predicted)"
   ]
  },
  {
   "cell_type": "code",
   "execution_count": 13,
   "id": "119b80f3",
   "metadata": {},
   "outputs": [
    {
     "data": {
      "text/plain": [
       "0.366"
      ]
     },
     "execution_count": 13,
     "metadata": {},
     "output_type": "execute_result"
    }
   ],
   "source": [
    "np.mean(np.square(y_true - y_predicted))"
   ]
  },
  {
   "cell_type": "code",
   "execution_count": 21,
   "id": "f4cddc21",
   "metadata": {},
   "outputs": [],
   "source": [
    "def log_loss(y_true, y_predicted):\n",
    "    eplison = 1e-15\n",
    "    y_predicted_new = [eplison if i == 0 else i for i in y_predicted]\n",
    "    y_predicted_new = [1-eplison if i == 1 else i for i in y_predicted_new]\n",
    "    total_error = 0\n",
    "    for yt, yp in zip(y_true, y_predicted_new):\n",
    "        total_error += yt * np.log(yp) + (1 - yt) * np.log(1 - yp)\n",
    "    return -(total_error / len(y_true))"
   ]
  },
  {
   "cell_type": "code",
   "execution_count": 22,
   "id": "917a063f",
   "metadata": {},
   "outputs": [
    {
     "data": {
      "text/plain": [
       "17.2696280766844"
      ]
     },
     "execution_count": 22,
     "metadata": {},
     "output_type": "execute_result"
    }
   ],
   "source": [
    "log_loss(y_true, y_predicted)"
   ]
  },
  {
   "cell_type": "code",
   "execution_count": 20,
   "id": "b4faaef2",
   "metadata": {},
   "outputs": [
    {
     "data": {
      "text/plain": [
       "[0.999999999999999, 0.999999999999999, 1e-15, 1e-15, 0.999999999999999]"
      ]
     },
     "execution_count": 20,
     "metadata": {},
     "output_type": "execute_result"
    }
   ],
   "source": [
    "eplison = 1e-15\n",
    "y_predicted_new = [eplison if i == 0 else i for i in y_predicted]\n",
    "y_predicted_new = [1-eplison if i == 1 else i for i in y_predicted_new]\n",
    "y_predicted_new"
   ]
  }
 ],
 "metadata": {
  "kernelspec": {
   "display_name": "Python 3 (ipykernel)",
   "language": "python",
   "name": "python3"
  },
  "language_info": {
   "codemirror_mode": {
    "name": "ipython",
    "version": 3
   },
   "file_extension": ".py",
   "mimetype": "text/x-python",
   "name": "python",
   "nbconvert_exporter": "python",
   "pygments_lexer": "ipython3",
   "version": "3.9.12"
  }
 },
 "nbformat": 4,
 "nbformat_minor": 5
}
